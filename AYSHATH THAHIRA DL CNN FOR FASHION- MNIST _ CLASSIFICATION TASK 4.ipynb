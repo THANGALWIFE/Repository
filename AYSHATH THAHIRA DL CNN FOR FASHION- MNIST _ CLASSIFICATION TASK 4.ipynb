https://colab.research.google.com/drive/12XTAvk8kAcXg2LPeUz_qORovRLxuz6Mh?usp=sharing
