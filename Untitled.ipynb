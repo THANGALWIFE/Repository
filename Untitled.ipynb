{
 "cells": [
  {
   "cell_type": "code",
   "execution_count": 1,
   "id": "ad45b27d",
   "metadata": {},
   "outputs": [
    {
     "data": {
      "text/plain": [
       "55"
      ]
     },
     "execution_count": 1,
     "metadata": {},
     "output_type": "execute_result"
    }
   ],
   "source": [
    "list =[1,2,3,4,5,6,7,8,9,10]\n",
    "sum(list)"
   ]
  },
  {
   "cell_type": "code",
   "execution_count": 2,
   "id": "7b5c5091",
   "metadata": {},
   "outputs": [
    {
     "data": {
      "text/plain": [
       "10"
      ]
     },
     "execution_count": 2,
     "metadata": {},
     "output_type": "execute_result"
    }
   ],
   "source": [
    "max(list)"
   ]
  },
  {
   "cell_type": "code",
   "execution_count": null,
   "id": "b4aa3dfa",
   "metadata": {},
   "outputs": [],
   "source": [
    "\n",
    "            "
   ]
  },
  {
   "cell_type": "code",
   "execution_count": null,
   "id": "24629e4c",
   "metadata": {},
   "outputs": [],
   "source": []
  },
  {
   "cell_type": "code",
   "execution_count": 7,
   "id": "ac580d33",
   "metadata": {},
   "outputs": [
    {
     "ename": "NameError",
     "evalue": "name 'strings_list' is not defined",
     "output_type": "error",
     "traceback": [
      "\u001b[1;31m---------------------------------------------------------------------------\u001b[0m",
      "\u001b[1;31mNameError\u001b[0m                                 Traceback (most recent call last)",
      "Cell \u001b[1;32mIn[7], line 3\u001b[0m\n\u001b[0;32m      1\u001b[0m string_list \u001b[38;5;241m=\u001b[39m [\u001b[38;5;124m'\u001b[39m\u001b[38;5;124mabc\u001b[39m\u001b[38;5;124m'\u001b[39m,\u001b[38;5;124m'\u001b[39m\u001b[38;5;124mxyz\u001b[39m\u001b[38;5;124m'\u001b[39m,\u001b[38;5;124m'\u001b[39m\u001b[38;5;124maba\u001b[39m\u001b[38;5;124m'\u001b[39m,\u001b[38;5;124m'\u001b[39m\u001b[38;5;124m1221\u001b[39m\u001b[38;5;124m'\u001b[39m]\n\u001b[0;32m      2\u001b[0m count \u001b[38;5;241m=\u001b[39m \u001b[38;5;241m0\u001b[39m\n\u001b[1;32m----> 3\u001b[0m \u001b[38;5;28;01mfor\u001b[39;00m string \u001b[38;5;129;01min\u001b[39;00m \u001b[43mstrings_list\u001b[49m:\n\u001b[0;32m      4\u001b[0m     \u001b[38;5;28;01mif\u001b[39;00m \u001b[38;5;28mlen\u001b[39m(string) \u001b[38;5;241m>\u001b[39m\u001b[38;5;241m=\u001b[39m \u001b[38;5;241m2\u001b[39m \u001b[38;5;129;01mand\u001b[39;00m string[\u001b[38;5;241m0\u001b[39m] \u001b[38;5;241m==\u001b[39m string[\u001b[38;5;241m-\u001b[39m\u001b[38;5;241m1\u001b[39m]:\n\u001b[0;32m      5\u001b[0m         count \u001b[38;5;241m+\u001b[39m\u001b[38;5;241m=\u001b[39m \u001b[38;5;241m1\u001b[39m\n",
      "\u001b[1;31mNameError\u001b[0m: name 'strings_list' is not defined"
     ]
    }
   ],
   "source": [
    "string_list = ['abc','xyz','aba','1221']\n",
    "count = 0\n",
    "for string in strings_list:\n",
    "    if len(string) >= 2 and string[0] == string[-1]:\n",
    "        count += 1\n",
    "        print(count)"
   ]
  },
  {
   "cell_type": "code",
   "execution_count": 9,
   "id": "eadc6f2f",
   "metadata": {},
   "outputs": [
    {
     "name": "stdout",
     "output_type": "stream",
     "text": [
      "[2, 4, 10, 20, 5]\n"
     ]
    }
   ],
   "source": [
    "# python code to remove duplicate elements\n",
    "def remove(duplicate):\n",
    "    final_list = []\n",
    "    \n",
    "    for num in duplicate:\n",
    "        if num not in final_list:\n",
    "            final_list.append(num)\n",
    "    return final_list\n",
    "        \n",
    " # driver code\n",
    "duplicate = [2, 4, 10, 20, 5, 2, 20, 4]\n",
    "print(remove(duplicate))"
   ]
  },
  {
   "cell_type": "code",
   "execution_count": null,
   "id": "44c6f0ab",
   "metadata": {},
   "outputs": [],
   "source": []
  },
  {
   "cell_type": "code",
   "execution_count": 10,
   "id": "1dcc5334",
   "metadata": {},
   "outputs": [
    {
     "name": "stdout",
     "output_type": "stream",
     "text": [
      "2\n"
     ]
    }
   ],
   "source": [
    "strings_list = ['abc','xyz','aba','1221']\n",
    "\n",
    "count = 0\n",
    "for string in strings_list:\n",
    "    if len(string) >= 2 and string[0] == string[-1]:\n",
    "        count += 1\n",
    "print(count)"
   ]
  },
  {
   "cell_type": "code",
   "execution_count": 11,
   "id": "df53ec76",
   "metadata": {},
   "outputs": [
    {
     "name": "stdout",
     "output_type": "stream",
     "text": [
      "[1, 2, 3, 4, 5, 6, 7, 8, 9, 10]\n",
      "empty list\n"
     ]
    }
   ],
   "source": [
    "def check_list(lis1):\n",
    "    if len(lis1) == 0:\n",
    "        print(\"empty list\")\n",
    "    else:\n",
    "        print(lis1)\n",
    "        \n",
    "a=[]\n",
    "\n",
    "list = [1,2,3,4,5,6,7,8,9,10,]\n",
    "\n",
    "check_list(list)\n",
    "\n",
    "check_list(a)\n",
    "            \n",
    "        "
   ]
  },
  {
   "cell_type": "code",
   "execution_count": 12,
   "id": "076b0073",
   "metadata": {},
   "outputs": [
    {
     "name": "stdout",
     "output_type": "stream",
     "text": [
      "['abc', 'xyz', 'aba']\n"
     ]
    }
   ],
   "source": [
    "string_list = ['abc','xyz','aba','1221']\n",
    "\n",
    "filtered_list = [string for string in strings_list if len(string) < 4]\n",
    "print(filtered_list)"
   ]
  },
  {
   "cell_type": "code",
   "execution_count": 13,
   "id": "d11206c6",
   "metadata": {},
   "outputs": [
    {
     "name": "stdout",
     "output_type": "stream",
     "text": [
      "second largest element is: 9\n"
     ]
    }
   ],
   "source": [
    "list = [1,3,2,4,5,7,6,8,9,10]\n",
    "\n",
    "new_list = sorted(list)\n",
    "\n",
    "print(\"second largest element is:\", new_list[-2])"
   ]
  },
  {
   "cell_type": "code",
   "execution_count": 14,
   "id": "d80f5fe1",
   "metadata": {},
   "outputs": [
    {
     "data": {
      "text/plain": [
       "['apple', 'banana', 'grape', 'kiwi', 'orange']"
      ]
     },
     "execution_count": 14,
     "metadata": {},
     "output_type": "execute_result"
    }
   ],
   "source": [
    "sample_dict = {'apple': 3, 'banana': 1, 'orange': 2, 'grape': 5, 'kiwi': 4}\n",
    "\n",
    "sorted(sample_dict)"
   ]
  },
  {
   "cell_type": "code",
   "execution_count": 15,
   "id": "3895b7ca",
   "metadata": {},
   "outputs": [
    {
     "name": "stdout",
     "output_type": "stream",
     "text": [
      "dict_keys(['apple', 'banana', 'orange', 'grape', 'kiwi'])\n"
     ]
    }
   ],
   "source": [
    "x = sample_dict.keys()\n",
    "print(x)"
   ]
  },
  {
   "cell_type": "code",
   "execution_count": 16,
   "id": "57f33682",
   "metadata": {},
   "outputs": [
    {
     "name": "stdout",
     "output_type": "stream",
     "text": [
      "15\n"
     ]
    }
   ],
   "source": [
    "sample_dict = {'apple': 3, 'banana': 1, 'orange': 2, 'grape': 5, 'kiwi': 4}\n",
    "\n",
    "list = []\n",
    "for item in sample_dict :\n",
    "    list.append(sample_dict[item])\n",
    "    final = sum(list)\n",
    "    \n",
    "print(final)"
   ]
  },
  {
   "cell_type": "code",
   "execution_count": 17,
   "id": "6385b026",
   "metadata": {},
   "outputs": [
    {
     "name": "stdout",
     "output_type": "stream",
     "text": [
      "enter a number: 3\n",
      "{3: 9}\n"
     ]
    }
   ],
   "source": [
    "a_dict = {}\n",
    "input_number = int(input(\"enter a number: \"))\n",
    "\n",
    "if input_number <= 10:\n",
    "    a_dict[input_number] = input_number * input_number\n",
    "    print(a_dict)\n",
    "else:\n",
    "    print(\"the number should be less than 10\")"
   ]
  },
  {
   "cell_type": "code",
   "execution_count": 18,
   "id": "aa5b0479",
   "metadata": {},
   "outputs": [
    {
     "data": {
      "text/plain": [
       "['apple', 'banana', 'grape', 'kiwi', 'orange']"
      ]
     },
     "execution_count": 18,
     "metadata": {},
     "output_type": "execute_result"
    }
   ],
   "source": [
    "sample_dict = {'apple': 3, 'banana': 1, 'orange': 2, 'grape': 5, 'kiwi': 4}\n",
    "\n",
    "sorted(sample_dict)"
   ]
  },
  {
   "cell_type": "code",
   "execution_count": 19,
   "id": "8208bfd8",
   "metadata": {
    "scrolled": true
   },
   "outputs": [
    {
     "name": "stdout",
     "output_type": "stream",
     "text": [
      "enter a string: 6\n",
      "{}\n"
     ]
    }
   ],
   "source": [
    "input_string = input(\"enter a string: \")\n",
    "letter_count = {}\n",
    "\n",
    "for x in input_string:\n",
    "    if x.isalpha():\n",
    "        x_lower = x.lower()\n",
    "        letter_count[x_lower] = letter_count.get(x_lower, 0) + 1\n",
    "        \n",
    "print(letter_count)"
   ]
  },
  {
   "cell_type": "code",
   "execution_count": 20,
   "id": "590d5bdb",
   "metadata": {},
   "outputs": [
    {
     "ename": "TypeError",
     "evalue": "'list' object is not callable",
     "output_type": "error",
     "traceback": [
      "\u001b[1;31m---------------------------------------------------------------------------\u001b[0m",
      "\u001b[1;31mTypeError\u001b[0m                                 Traceback (most recent call last)",
      "Cell \u001b[1;32mIn[20], line 3\u001b[0m\n\u001b[0;32m      1\u001b[0m mydict \u001b[38;5;241m=\u001b[39m {\u001b[38;5;124m'\u001b[39m\u001b[38;5;124mitem1\u001b[39m\u001b[38;5;124m'\u001b[39m: \u001b[38;5;241m45.50\u001b[39m, \u001b[38;5;124m'\u001b[39m\u001b[38;5;124mitem2\u001b[39m\u001b[38;5;124m'\u001b[39m:\u001b[38;5;241m35\u001b[39m, \u001b[38;5;124m'\u001b[39m\u001b[38;5;124mitem3\u001b[39m\u001b[38;5;124m'\u001b[39m: \u001b[38;5;241m41.30\u001b[39m, \u001b[38;5;124m'\u001b[39m\u001b[38;5;124mitem4\u001b[39m\u001b[38;5;124m'\u001b[39m:\u001b[38;5;241m55\u001b[39m, \u001b[38;5;124m'\u001b[39m\u001b[38;5;124mitem5\u001b[39m\u001b[38;5;124m'\u001b[39m: \u001b[38;5;241m24\u001b[39m}\n\u001b[1;32m----> 3\u001b[0m mykeys \u001b[38;5;241m=\u001b[39m \u001b[38;5;28;43mlist\u001b[39;49m\u001b[43m(\u001b[49m\u001b[43mmydict\u001b[49m\u001b[38;5;241;43m.\u001b[39;49m\u001b[43mkeys\u001b[49m\u001b[43m(\u001b[49m\u001b[43m)\u001b[49m\u001b[43m)\u001b[49m\n\u001b[0;32m      4\u001b[0m mykeys\u001b[38;5;241m.\u001b[39msort()\n\u001b[0;32m      5\u001b[0m sorted_dict \u001b[38;5;241m=\u001b[39m {i: mydict[i] \u001b[38;5;28;01mfor\u001b[39;00m i \u001b[38;5;129;01min\u001b[39;00m mykeys}\n",
      "\u001b[1;31mTypeError\u001b[0m: 'list' object is not callable"
     ]
    }
   ],
   "source": [
    "mydict = {'item1': 45.50, 'item2':35, 'item3': 41.30, 'item4':55, 'item5': 24}\n",
    "\n",
    "\n",
    "mykeys = list(mydict.keys())\n",
    "mykeys.sort()\n",
    "sorted_dict = {i: mydict[i] for i in mykeys}\n",
    "\n",
    "print(sorted_dict)\n",
    "\n",
    "res = dict(list(sorted_dict.items())[0:3])\n",
    "\n",
    "print(res)"
   ]
  },
  {
   "cell_type": "code",
   "execution_count": 21,
   "id": "8ad007b3",
   "metadata": {},
   "outputs": [
    {
     "ename": "TypeError",
     "evalue": "'list' object is not callable",
     "output_type": "error",
     "traceback": [
      "\u001b[1;31m---------------------------------------------------------------------------\u001b[0m",
      "\u001b[1;31mTypeError\u001b[0m                                 Traceback (most recent call last)",
      "Cell \u001b[1;32mIn[21], line 4\u001b[0m\n\u001b[0;32m      1\u001b[0m mydict \u001b[38;5;241m=\u001b[39m {\u001b[38;5;124m'\u001b[39m\u001b[38;5;124mitem1\u001b[39m\u001b[38;5;124m'\u001b[39m: \u001b[38;5;241m45.50\u001b[39m, \u001b[38;5;124m'\u001b[39m\u001b[38;5;124mitem2\u001b[39m\u001b[38;5;124m'\u001b[39m:\u001b[38;5;241m35\u001b[39m, \u001b[38;5;124m'\u001b[39m\u001b[38;5;124mitem3\u001b[39m\u001b[38;5;124m'\u001b[39m: \u001b[38;5;241m41.30\u001b[39m, \u001b[38;5;124m'\u001b[39m\u001b[38;5;124mitem4\u001b[39m\u001b[38;5;124m'\u001b[39m:\u001b[38;5;241m55\u001b[39m, \u001b[38;5;124m'\u001b[39m\u001b[38;5;124mitem5\u001b[39m\u001b[38;5;124m'\u001b[39m: \u001b[38;5;241m24\u001b[39m}\n\u001b[1;32m----> 4\u001b[0m mykeys \u001b[38;5;241m=\u001b[39m \u001b[38;5;28;43mlist\u001b[39;49m\u001b[43m(\u001b[49m\u001b[43mmydict\u001b[49m\u001b[38;5;241;43m.\u001b[39;49m\u001b[43mkeys\u001b[49m\u001b[43m(\u001b[49m\u001b[43m)\u001b[49m\u001b[43m)\u001b[49m\n\u001b[0;32m      5\u001b[0m mykeys\u001b[38;5;241m.\u001b[39msort()\n\u001b[0;32m      6\u001b[0m sorted_dict \u001b[38;5;241m=\u001b[39m {i: mydict[i] \u001b[38;5;28;01mfor\u001b[39;00m i \u001b[38;5;129;01min\u001b[39;00m mykeys}\n",
      "\u001b[1;31mTypeError\u001b[0m: 'list' object is not callable"
     ]
    }
   ],
   "source": [
    "mydict = {'item1': 45.50, 'item2':35, 'item3': 41.30, 'item4':55, 'item5': 24}\n",
    "\n",
    "\n",
    "mykeys = list(mydict.keys())\n",
    "mykeys.sort()\n",
    "sorted_dict = {i: mydict[i] for i in mykeys}\n",
    "\n",
    "print(sorted_dict)\n",
    "\n",
    "res = dict(list(sorted_dict.items())[0:3])\n",
    "\n",
    "print(res)"
   ]
  },
  {
   "cell_type": "code",
   "execution_count": 22,
   "id": "fb05f6da",
   "metadata": {},
   "outputs": [
    {
     "name": "stdout",
     "output_type": "stream",
     "text": [
      "enter a string: cat\n",
      "{'c': 1, 'a': 1, 't': 1}\n"
     ]
    }
   ],
   "source": [
    "input_string = input(\"enter a string: \")\n",
    "letter_count = {}\n",
    "\n",
    "for x in input_string:\n",
    "    if x.isalpha():\n",
    "        x_lower = x.lower()\n",
    "        letter_count[x_lower] = letter_count.get(x_lower, 0) + 1\n",
    "        \n",
    "print(letter_count)"
   ]
  },
  {
   "cell_type": "code",
   "execution_count": 25,
   "id": "98cd90ed",
   "metadata": {},
   "outputs": [
    {
     "ename": "TypeError",
     "evalue": "'list' object is not callable",
     "output_type": "error",
     "traceback": [
      "\u001b[1;31m---------------------------------------------------------------------------\u001b[0m",
      "\u001b[1;31mTypeError\u001b[0m                                 Traceback (most recent call last)",
      "Cell \u001b[1;32mIn[25], line 3\u001b[0m\n\u001b[0;32m      1\u001b[0m myDict \u001b[38;5;241m=\u001b[39m {\u001b[38;5;124m'\u001b[39m\u001b[38;5;124mitem1\u001b[39m\u001b[38;5;124m'\u001b[39m: \u001b[38;5;241m45.50\u001b[39m, \u001b[38;5;124m'\u001b[39m\u001b[38;5;124mitem2\u001b[39m\u001b[38;5;124m'\u001b[39m:\u001b[38;5;241m35\u001b[39m, \u001b[38;5;124m'\u001b[39m\u001b[38;5;124mitem3\u001b[39m\u001b[38;5;124m'\u001b[39m: \u001b[38;5;241m41.30\u001b[39m, \u001b[38;5;124m'\u001b[39m\u001b[38;5;124mitem4\u001b[39m\u001b[38;5;124m'\u001b[39m:\u001b[38;5;241m55\u001b[39m, \u001b[38;5;124m'\u001b[39m\u001b[38;5;124mitem5\u001b[39m\u001b[38;5;124m'\u001b[39m: \u001b[38;5;241m24\u001b[39m}\n\u001b[1;32m----> 3\u001b[0m resultlist \u001b[38;5;241m=\u001b[39m \u001b[38;5;28;43mlist\u001b[39;49m\u001b[43m(\u001b[49m\u001b[43mmyDict\u001b[49m\u001b[38;5;241;43m.\u001b[39;49m\u001b[43mvalues\u001b[49m\u001b[43m(\u001b[49m\u001b[43m)\u001b[49m\u001b[43m)\u001b[49m\n\u001b[0;32m      4\u001b[0m x \u001b[38;5;241m=\u001b[39m \u001b[38;5;28msorted\u001b[39m(resultlist)\n\u001b[0;32m      5\u001b[0m \u001b[38;5;28mprint\u001b[39m (x[\u001b[38;5;241m2\u001b[39m:])\n",
      "\u001b[1;31mTypeError\u001b[0m: 'list' object is not callable"
     ]
    }
   ],
   "source": [
    "myDict = {'item1': 45.50, 'item2':35, 'item3': 41.30, 'item4':55, 'item5': 24}\n",
    "\n",
    "resultlist = list(myDict.values())\n",
    "x = sorted(resultlist)\n",
    "print (x[2:])"
   ]
  },
  {
   "cell_type": "code",
   "execution_count": 26,
   "id": "a6c67107",
   "metadata": {},
   "outputs": [
    {
     "ename": "TypeError",
     "evalue": "'list' object is not callable",
     "output_type": "error",
     "traceback": [
      "\u001b[1;31m---------------------------------------------------------------------------\u001b[0m",
      "\u001b[1;31mTypeError\u001b[0m                                 Traceback (most recent call last)",
      "Cell \u001b[1;32mIn[26], line 3\u001b[0m\n\u001b[0;32m      1\u001b[0m myDict \u001b[38;5;241m=\u001b[39m {\u001b[38;5;124m'\u001b[39m\u001b[38;5;124mitem1\u001b[39m\u001b[38;5;124m'\u001b[39m: \u001b[38;5;241m45.50\u001b[39m, \u001b[38;5;124m'\u001b[39m\u001b[38;5;124mitem2\u001b[39m\u001b[38;5;124m'\u001b[39m:\u001b[38;5;241m35\u001b[39m, \u001b[38;5;124m'\u001b[39m\u001b[38;5;124mitem3\u001b[39m\u001b[38;5;124m'\u001b[39m: \u001b[38;5;241m41.30\u001b[39m, \u001b[38;5;124m'\u001b[39m\u001b[38;5;124mitem4\u001b[39m\u001b[38;5;124m'\u001b[39m:\u001b[38;5;241m55\u001b[39m, \u001b[38;5;124m'\u001b[39m\u001b[38;5;124mitem5\u001b[39m\u001b[38;5;124m'\u001b[39m: \u001b[38;5;241m24\u001b[39m}\n\u001b[1;32m----> 3\u001b[0m resultlist \u001b[38;5;241m=\u001b[39m \u001b[38;5;28;43mlist\u001b[39;49m\u001b[43m(\u001b[49m\u001b[43mmyDict\u001b[49m\u001b[38;5;241;43m.\u001b[39;49m\u001b[43mvalues\u001b[49m\u001b[43m(\u001b[49m\u001b[43m)\u001b[49m\u001b[43m)\u001b[49m\n\u001b[0;32m      4\u001b[0m x \u001b[38;5;241m=\u001b[39m \u001b[38;5;28msorted\u001b[39m(resultlist)\n\u001b[0;32m      5\u001b[0m \u001b[38;5;28mprint\u001b[39m (x[\u001b[38;5;241m2\u001b[39m:])\n",
      "\u001b[1;31mTypeError\u001b[0m: 'list' object is not callable"
     ]
    }
   ],
   "source": [
    "myDict = {'item1': 45.50, 'item2':35, 'item3': 41.30, 'item4':55, 'item5': 24}\n",
    "\n",
    "resultlist = list(myDict.values())\n",
    "x = sorted(resultlist)\n",
    "print (x[2:])\n"
   ]
  },
  {
   "cell_type": "code",
   "execution_count": null,
   "id": "e6964c9a",
   "metadata": {},
   "outputs": [],
   "source": []
  }
 ],
 "metadata": {
  "kernelspec": {
   "display_name": "Python 3 (ipykernel)",
   "language": "python",
   "name": "python3"
  },
  "language_info": {
   "codemirror_mode": {
    "name": "ipython",
    "version": 3
   },
   "file_extension": ".py",
   "mimetype": "text/x-python",
   "name": "python",
   "nbconvert_exporter": "python",
   "pygments_lexer": "ipython3",
   "version": "3.11.4"
  }
 },
 "nbformat": 4,
 "nbformat_minor": 5
}
